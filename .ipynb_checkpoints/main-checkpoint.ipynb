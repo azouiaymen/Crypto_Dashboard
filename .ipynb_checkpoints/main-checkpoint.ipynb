{
 "cells": [
  {
   "cell_type": "code",
   "execution_count": 57,
   "id": "d836ae90",
   "metadata": {},
   "outputs": [],
   "source": [
    "import streamlit as st\n",
    "import datetime as dt\n",
    "import pandas as pd\n",
    "from sqlalchemy import create_engine\n",
    "engine = create_engine('sqlite:///CryptolIVE.DB')"
   ]
  },
  {
   "cell_type": "code",
   "execution_count": 2,
   "id": "3902308a",
   "metadata": {},
   "outputs": [],
   "source": [
    "from sqlalchemy import inspect\n",
    "inspector = inspect(engine)\n",
    "# inspector.get_table_names()"
   ]
  },
  {
   "cell_type": "code",
   "execution_count": 58,
   "id": "f5ef1a8a",
   "metadata": {
    "collapsed": true
   },
   "outputs": [
    {
     "name": "stderr",
     "output_type": "stream",
     "text": [
      "2022-06-21 01:22:33.016 \n",
      "  \u001b[33m\u001b[1mWarning:\u001b[0m to view this Streamlit app on a browser, run it with the following\n",
      "  command:\n",
      "\n",
      "    streamlit run C:\\Users\\Aymen\\anaconda3\\lib\\site-packages\\ipykernel_launcher.py [ARGUMENTS]\n"
     ]
    },
    {
     "data": {
      "text/plain": [
       "DeltaGenerator(_root_container=0, _provided_cursor=None, _parent=None, _block_type=None, _form_data=None)"
      ]
     },
     "execution_count": 58,
     "metadata": {},
     "output_type": "execute_result"
    }
   ],
   "source": [
    "st.title('Welcome to Basic Crypto dashboard')"
   ]
  },
  {
   "cell_type": "code",
   "execution_count": 5,
   "id": "a24757f6",
   "metadata": {},
   "outputs": [],
   "source": [
    "symbols = pd.read_sql('SELECT name from sqlite_master where type = \"table\"',engine).name.to_list()"
   ]
  },
  {
   "cell_type": "code",
   "execution_count": 17,
   "id": "adf8afaa",
   "metadata": {},
   "outputs": [],
   "source": [
    "lookback = st.selectbox('Pick the lookback in minutes', [1,15,30])"
   ]
  },
  {
   "cell_type": "code",
   "execution_count": 28,
   "id": "04c74c40",
   "metadata": {},
   "outputs": [],
   "source": [
    "def query_symb(symbol, lookback):\n",
    "    now = dt.datetime.utcnow()\n",
    "    before = now - dt.timedelta(minutes = lookback)\n",
    "    #print(now,\"*\"*15,before)\n",
    "    qur = f\"\"\"SELECT * from '{symbol}' WHERE time >= '{before}' \"\"\"\n",
    "    df = pd.read_sql(qur,engine)\n",
    "\n",
    "    return df"
   ]
  },
  {
   "cell_type": "code",
   "execution_count": 60,
   "id": "81a51e72",
   "metadata": {},
   "outputs": [],
   "source": [
    "# query_symb('ethusdt',1)"
   ]
  },
  {
   "cell_type": "code",
   "execution_count": 30,
   "id": "8dff8b3c",
   "metadata": {},
   "outputs": [],
   "source": [
    "def return_calculus(sym,lookback):\n",
    "    df = query_symb(sym,lookback)\n",
    "    cum_ret = (df.PRICE.pct_change() + 1).prod() - 1\n",
    "    return cum_ret"
   ]
  },
  {
   "cell_type": "code",
   "execution_count": 31,
   "id": "8ef9b6e9",
   "metadata": {},
   "outputs": [
    {
     "data": {
      "text/plain": [
       "0.002697728133966404"
      ]
     },
     "execution_count": 31,
     "metadata": {},
     "output_type": "execute_result"
    }
   ],
   "source": [
    "return_calculus('ethusdt',10)"
   ]
  },
  {
   "cell_type": "code",
   "execution_count": 32,
   "id": "cc714d18",
   "metadata": {},
   "outputs": [],
   "source": [
    "def all_returned():\n",
    "    returns = []\n",
    "    for symb in symbols:\n",
    "        returns.append(return_calculus(symb,lookback))\n",
    "    return returns"
   ]
  },
  {
   "cell_type": "code",
   "execution_count": null,
   "id": "2015f5e2",
   "metadata": {},
   "outputs": [],
   "source": [
    "if st.button('Update'):\n",
    "    all_returned()"
   ]
  },
  {
   "cell_type": "code",
   "execution_count": 41,
   "id": "9b239607",
   "metadata": {},
   "outputs": [],
   "source": [
    "all_return = pd.DataFrame(all_returned(),index=symbols,columns=['CHANGE'])"
   ]
  },
  {
   "cell_type": "code",
   "execution_count": 53,
   "id": "01ac8045",
   "metadata": {},
   "outputs": [],
   "source": [
    "top = all_return.CHANGE.nlargest(10)"
   ]
  },
  {
   "cell_type": "code",
   "execution_count": 59,
   "id": "f13a9fc0",
   "metadata": {},
   "outputs": [],
   "source": [
    "st.write(top)"
   ]
  },
  {
   "cell_type": "code",
   "execution_count": 51,
   "id": "8aa9922a",
   "metadata": {},
   "outputs": [],
   "source": [
    "bottom = all_return.CHANGE.nsmallest(10)"
   ]
  },
  {
   "cell_type": "code",
   "execution_count": null,
   "id": "0e828015",
   "metadata": {},
   "outputs": [],
   "source": [
    "st.write(bottom)"
   ]
  }
 ],
 "metadata": {
  "kernelspec": {
   "display_name": "Python 3 (ipykernel)",
   "language": "python",
   "name": "python3"
  },
  "language_info": {
   "codemirror_mode": {
    "name": "ipython",
    "version": 3
   },
   "file_extension": ".py",
   "mimetype": "text/x-python",
   "name": "python",
   "nbconvert_exporter": "python",
   "pygments_lexer": "ipython3",
   "version": "3.9.12"
  }
 },
 "nbformat": 4,
 "nbformat_minor": 5
}
